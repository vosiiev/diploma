{
 "cells": [
  {
   "cell_type": "code",
   "execution_count": 1,
   "metadata": {
    "scrolled": true
   },
   "outputs": [],
   "source": [
    "import os\n",
    "import\n",
    "\n",
    "folder_train = '/home/vosiiev/Downloads/ukr_lit/txt'\n",
    "folder_test = '/home/vosiiev/Downloads/ukr_lit/test'\n",
    "train_files = os.listdir(folder_train)\n",
    "test_files = os.listdir(folder_test)\n",
    "directory = '/home/vosiiev/diploma/program'\n",
    "\n",
    "from stop_words import get_stop_words\n",
    "\n",
    "#stopwords = get_stop_words('ua')\n",
    "stopwords = get_stop_words('ukrainian')\n",
    "\n",
    "\n",
    "\n",
    "categories = [\n",
    "    'герой',\n",
    "    'наставник',\n",
    "    'простак',\n",
    "    'невинний',\n",
    "    'злодій',\n",
    "]\n",
    "\n",
    "\n",
    "for item in categories:\n",
    "    os.mkdir(os.path.join(directory, 'datasets', item))\n",
    "    os.mkdir(os.path.join(directory, 'test', item))"
   ]
  },
  {
   "cell_type": "code",
   "execution_count": 2,
   "metadata": {},
   "outputs": [
    {
     "ename": "IndexError",
     "evalue": "list index out of range",
     "output_type": "error",
     "traceback": [
      "\u001b[0;31m---------------------------------------------------------------------------\u001b[0m",
      "\u001b[0;31mIndexError\u001b[0m                                Traceback (most recent call last)",
      "\u001b[0;32m<ipython-input-2-073168359aeb>\u001b[0m in \u001b[0;36m<module>\u001b[0;34m\u001b[0m\n\u001b[1;32m     10\u001b[0m     \u001b[0mchars_dict\u001b[0m \u001b[0;34m=\u001b[0m \u001b[0;34m{\u001b[0m\u001b[0;34m}\u001b[0m\u001b[0;34m\u001b[0m\u001b[0;34m\u001b[0m\u001b[0m\n\u001b[1;32m     11\u001b[0m     \u001b[0;32mfor\u001b[0m \u001b[0mitem\u001b[0m \u001b[0;32min\u001b[0m \u001b[0mchars_list\u001b[0m\u001b[0;34m:\u001b[0m\u001b[0;34m\u001b[0m\u001b[0;34m\u001b[0m\u001b[0m\n\u001b[0;32m---> 12\u001b[0;31m         \u001b[0mchars_dict\u001b[0m\u001b[0;34m[\u001b[0m\u001b[0mitem\u001b[0m\u001b[0;34m.\u001b[0m\u001b[0msplit\u001b[0m\u001b[0;34m(\u001b[0m\u001b[0;34m': '\u001b[0m\u001b[0;34m)\u001b[0m\u001b[0;34m[\u001b[0m\u001b[0;36m0\u001b[0m\u001b[0;34m]\u001b[0m\u001b[0;34m]\u001b[0m \u001b[0;34m=\u001b[0m \u001b[0mitem\u001b[0m\u001b[0;34m.\u001b[0m\u001b[0msplit\u001b[0m\u001b[0;34m(\u001b[0m\u001b[0;34m': '\u001b[0m\u001b[0;34m)\u001b[0m\u001b[0;34m[\u001b[0m\u001b[0;36m1\u001b[0m\u001b[0;34m]\u001b[0m\u001b[0;34m\u001b[0m\u001b[0;34m\u001b[0m\u001b[0m\n\u001b[0m\u001b[1;32m     13\u001b[0m \u001b[0;34m\u001b[0m\u001b[0m\n\u001b[1;32m     14\u001b[0m     \u001b[0;32mfor\u001b[0m \u001b[0mpair\u001b[0m \u001b[0;32min\u001b[0m \u001b[0mchars_dict\u001b[0m\u001b[0;34m.\u001b[0m\u001b[0mitems\u001b[0m\u001b[0;34m(\u001b[0m\u001b[0;34m)\u001b[0m\u001b[0;34m:\u001b[0m\u001b[0;34m\u001b[0m\u001b[0;34m\u001b[0m\u001b[0m\n",
      "\u001b[0;31mIndexError\u001b[0m: list index out of range"
     ]
    }
   ],
   "source": [
    "import textract\n",
    "\n",
    "\n",
    "k = 0\n",
    "for file in train_files:\n",
    "    encoded_text = textract.process(os.path.join(folder_train, file), encoding='koi8_u')\n",
    "    text = encoded_text.decode('koi8_u')\n",
    "    text = text.lower().split('\\n')\n",
    "    chars_list = text[0].lower().split('; ')\n",
    "    chars_dict = {}\n",
    "    for item in chars_list:\n",
    "        chars_dict[item.split(': ')[0]] = item.split(': ')[1]\n",
    "    \n",
    "    for pair in chars_dict.items():\n",
    "        formatted_text = []\n",
    "        for item in text[1:]:\n",
    "            if pair[0] in item.split():\n",
    "                sentence = []\n",
    "                for word in item.split():\n",
    "                    if word.strip('.,\":;!?') not in stopwords:\n",
    "                        sentence.append(word.strip('.,\":;!?'))\n",
    "            \n",
    "                formatted_text.append(sentence)\n",
    "               \n",
    "        \n",
    "        with open(os.path.join('datasets', pair[1], f'text_{k}.txt'), 'w') as f:\n",
    "            for line in formatted_text:\n",
    "                for item in line:\n",
    "                    f.write(item + ' ')\n",
    "            k += 1\n",
    "                \n"
   ]
  },
  {
   "cell_type": "code",
   "execution_count": 3,
   "metadata": {},
   "outputs": [],
   "source": [
    "k = 0\n",
    "\n",
    "for file in test_files:\n",
    "    encoded_text = textract.process(os.path.join(folder_test, file), encoding='koi8_u')\n",
    "    text = encoded_text.decode('koi8_u')\n",
    "    text = text.lower().split('\\n')\n",
    "    chars_list = text[0].lower().split('; ')\n",
    "    chars_dict = {}\n",
    "    for item in chars_list:\n",
    "        chars_dict[item.split(': ')[0]] = item.split(': ')[1]\n",
    "    \n",
    "    for pair in chars_dict.items():\n",
    "        formatted_text = []\n",
    "        for item in text[1:]:\n",
    "            if pair[0] in item.split():\n",
    "                sentence = []\n",
    "                for word in item.split():\n",
    "                    if word.strip('.,\":;!?') not in stopwords:\n",
    "                        sentence.append(word.strip('.,\":;!?'))\n",
    "            \n",
    "                formatted_text.append(sentence)\n",
    "    \n",
    "        with open(os.path.join('test', pair[1], f'text_{k}.txt'), 'w') as f:\n",
    "            for line in formatted_text:\n",
    "                for item in line:\n",
    "                    f.write(item + ' ')\n",
    "            k += 1"
   ]
  }
 ],
 "metadata": {
  "kernelspec": {
   "display_name": "venv",
   "language": "python",
   "name": "venv"
  },
  "language_info": {
   "codemirror_mode": {
    "name": "ipython",
    "version": 3
   },
   "file_extension": ".py",
   "mimetype": "text/x-python",
   "name": "python",
   "nbconvert_exporter": "python",
   "pygments_lexer": "ipython3",
   "version": "3.7.7"
  }
 },
 "nbformat": 4,
 "nbformat_minor": 4
}
