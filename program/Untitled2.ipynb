{
 "cells": [
  {
   "cell_type": "code",
   "execution_count": 6,
   "metadata": {},
   "outputs": [],
   "source": [
    "import sklearn.datasets as skd\n",
    "\n",
    "categories = [\n",
    "    'невинний',\n",
    "    'сирота',\n",
    "    'герой',\n",
    "    'наставник',\n",
    "    'мандрівник',\n",
    "    'коханець',\n",
    "    'бунтар',\n",
    "    'творець',\n",
    "    'правитель',\n",
    "    'чарівник',\n",
    "    'мудрець',\n",
    "    'блазень',\n",
    "]\n",
    "неви\n",
    "data_train = skd.load_files('/home/vosiiev/Downloads/ukr_lit/txt', encoding='koi8_u')"
   ]
  },
  {
   "cell_type": "code",
   "execution_count": 7,
   "metadata": {},
   "outputs": [
    {
     "data": {
      "text/plain": [
       "{'data': [],\n",
       " 'filenames': array([], dtype=float64),\n",
       " 'target_names': [],\n",
       " 'target': array([], dtype=float64),\n",
       " 'DESCR': None}"
      ]
     },
     "execution_count": 7,
     "metadata": {},
     "output_type": "execute_result"
    }
   ],
   "source": [
    "data_train"
   ]
  }
 ],
 "metadata": {
  "kernelspec": {
   "display_name": "test",
   "language": "python",
   "name": "test"
  },
  "language_info": {
   "codemirror_mode": {
    "name": "ipython",
    "version": 3
   },
   "file_extension": ".py",
   "mimetype": "text/x-python",
   "name": "python",
   "nbconvert_exporter": "python",
   "pygments_lexer": "ipython3",
   "version": "3.8.2"
  }
 },
 "nbformat": 4,
 "nbformat_minor": 4
}
