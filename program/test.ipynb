{
 "cells": [
  {
   "cell_type": "code",
   "execution_count": null,
   "metadata": {},
   "outputs": [],
   "source": [
    "import os\n",
    "folder_train = '/home/vosiiev/Downloads/ukr_lit/txt'\n",
    "folder_test = '/home/vosiiev/Downloads/ukr_lit/test'\n",
    "train_files = os.listdir(folder_train)\n",
    "test_files = os.listdir(folder_test)\n",
    "directory = '/home/vosiiev/DW/program'\n",
    "\n",
    "from stop_words import get_stop_words\n",
    "\n",
    "stopwords = get_stop_words('ua')\n",
    "# stopwords = get_stop_words('ukrainian')\n",
    "\n",
    "\n",
    "\n",
    "categories = [\n",
    "    'герой',\n",
    "    'наставник',\n",
    "    'простак',\n",
    "    'невинний',\n",
    "    'злодій',\n",
    "]\n",
    "\n",
    "\n",
    "for item in categories:\n",
    "    os.mkdir(os.path.join(directory, 'datasets', item))\n",
    "    os.mkdir(os.path.join(directory, 'test', item))"
   ]
  }
 ],
 "metadata": {
  "kernelspec": {
   "display_name": "venv",
   "language": "python",
   "name": "venv"
  },
  "language_info": {
   "codemirror_mode": {
    "name": "ipython",
    "version": 3
   },
   "file_extension": ".py",
   "mimetype": "text/x-python",
   "name": "python",
   "nbconvert_exporter": "python",
   "pygments_lexer": "ipython3",
   "version": "3.7.7"
  }
 },
 "nbformat": 4,
 "nbformat_minor": 4
}
